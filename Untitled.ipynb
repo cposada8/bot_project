{
 "cells": [
  {
   "cell_type": "markdown",
   "metadata": {},
   "source": [
    "# Proccessing the database"
   ]
  },
  {
   "cell_type": "code",
   "execution_count": 3,
   "metadata": {},
   "outputs": [],
   "source": [
    "import pandas as pd\n",
    "import matplotlib.pyplot as plt\n",
    "import seaborn as sns\n",
    "\n",
    "import os"
   ]
  },
  {
   "cell_type": "code",
   "execution_count": 7,
   "metadata": {},
   "outputs": [],
   "source": [
    "data_path = \"./databases/\"\n",
    "images_path = \"./images/crops/\"\n",
    "dislikes_path = \"./images/dislikes/\"\n",
    "likes_path = \"./images/likes/\""
   ]
  },
  {
   "cell_type": "code",
   "execution_count": 10,
   "metadata": {},
   "outputs": [
    {
     "data": {
      "text/plain": [
       "[]"
      ]
     },
     "execution_count": 10,
     "metadata": {},
     "output_type": "execute_result"
    }
   ],
   "source": [
    "os.listdir(dislikes_path)"
   ]
  },
  {
   "cell_type": "code",
   "execution_count": 11,
   "metadata": {},
   "outputs": [],
   "source": [
    "data = pd.read_csv(data_path+\"database.csv\", sep=\";\")"
   ]
  },
  {
   "cell_type": "code",
   "execution_count": 12,
   "metadata": {},
   "outputs": [
    {
     "data": {
      "text/html": [
       "<div>\n",
       "<style scoped>\n",
       "    .dataframe tbody tr th:only-of-type {\n",
       "        vertical-align: middle;\n",
       "    }\n",
       "\n",
       "    .dataframe tbody tr th {\n",
       "        vertical-align: top;\n",
       "    }\n",
       "\n",
       "    .dataframe thead th {\n",
       "        text-align: right;\n",
       "    }\n",
       "</style>\n",
       "<table border=\"1\" class=\"dataframe\">\n",
       "  <thead>\n",
       "    <tr style=\"text-align: right;\">\n",
       "      <th></th>\n",
       "      <th>image_name</th>\n",
       "      <th>user</th>\n",
       "      <th>rank</th>\n",
       "      <th>date_str</th>\n",
       "    </tr>\n",
       "  </thead>\n",
       "  <tbody>\n",
       "    <tr>\n",
       "      <th>0</th>\n",
       "      <td>cropped_screenshot_1.png</td>\n",
       "      <td>NaN</td>\n",
       "      <td>Linear</td>\n",
       "      <td>14/02/2020 1:15</td>\n",
       "    </tr>\n",
       "    <tr>\n",
       "      <th>1</th>\n",
       "      <td>cropped_screenshot_10.png</td>\n",
       "      <td>NaN</td>\n",
       "      <td>Linear</td>\n",
       "      <td>14/02/2020 1:15</td>\n",
       "    </tr>\n",
       "    <tr>\n",
       "      <th>2</th>\n",
       "      <td>cropped_screenshot_100.png</td>\n",
       "      <td>NaN</td>\n",
       "      <td>like</td>\n",
       "      <td>14/02/2020 1:15</td>\n",
       "    </tr>\n",
       "    <tr>\n",
       "      <th>3</th>\n",
       "      <td>cropped_screenshot_1000.png</td>\n",
       "      <td>NaN</td>\n",
       "      <td>dislike</td>\n",
       "      <td>14/02/2020 1:15</td>\n",
       "    </tr>\n",
       "    <tr>\n",
       "      <th>4</th>\n",
       "      <td>cropped_screenshot_1001.png</td>\n",
       "      <td>NaN</td>\n",
       "      <td>like</td>\n",
       "      <td>14/02/2020 1:16</td>\n",
       "    </tr>\n",
       "  </tbody>\n",
       "</table>\n",
       "</div>"
      ],
      "text/plain": [
       "                    image_name user     rank         date_str\n",
       "0     cropped_screenshot_1.png  NaN   Linear  14/02/2020 1:15\n",
       "1    cropped_screenshot_10.png  NaN   Linear  14/02/2020 1:15\n",
       "2   cropped_screenshot_100.png  NaN     like  14/02/2020 1:15\n",
       "3  cropped_screenshot_1000.png  NaN  dislike  14/02/2020 1:15\n",
       "4  cropped_screenshot_1001.png  NaN     like  14/02/2020 1:16"
      ]
     },
     "execution_count": 12,
     "metadata": {},
     "output_type": "execute_result"
    }
   ],
   "source": [
    "data.head()"
   ]
  },
  {
   "cell_type": "code",
   "execution_count": 13,
   "metadata": {},
   "outputs": [
    {
     "data": {
      "text/plain": [
       "(2195, 4)"
      ]
     },
     "execution_count": 13,
     "metadata": {},
     "output_type": "execute_result"
    }
   ],
   "source": [
    "data.shape"
   ]
  },
  {
   "cell_type": "code",
   "execution_count": 14,
   "metadata": {},
   "outputs": [
    {
     "data": {
      "text/plain": [
       "like          1262\n",
       "dislike        895\n",
       "super like      34\n",
       "Linear           4\n",
       "Name: rank, dtype: int64"
      ]
     },
     "execution_count": 14,
     "metadata": {},
     "output_type": "execute_result"
    }
   ],
   "source": [
    "data[\"rank\"].value_counts()"
   ]
  },
  {
   "cell_type": "markdown",
   "metadata": {},
   "source": [
    "### Get rid of \"linear\" ranks"
   ]
  },
  {
   "cell_type": "code",
   "execution_count": 15,
   "metadata": {},
   "outputs": [
    {
     "data": {
      "text/plain": [
       "(2191, 4)"
      ]
     },
     "execution_count": 15,
     "metadata": {},
     "output_type": "execute_result"
    }
   ],
   "source": [
    "data = data[data[\"rank\"]!=\"Linear\"]\n",
    "data.shape"
   ]
  },
  {
   "cell_type": "code",
   "execution_count": 16,
   "metadata": {},
   "outputs": [
    {
     "data": {
      "text/plain": [
       "like          1262\n",
       "dislike        895\n",
       "super like      34\n",
       "Name: rank, dtype: int64"
      ]
     },
     "execution_count": 16,
     "metadata": {},
     "output_type": "execute_result"
    }
   ],
   "source": [
    "data[\"rank\"].value_counts()"
   ]
  },
  {
   "cell_type": "code",
   "execution_count": 17,
   "metadata": {},
   "outputs": [],
   "source": [
    "def get_0_1_label(rank):\n",
    "    # this function gets a string \"rank\"\n",
    "    # and returns 0 if it is \"dislike\"\n",
    "    # and 1 in other case\n",
    "    ans = 0 if rank == \"dislike\" else 1\n",
    "    return ans"
   ]
  },
  {
   "cell_type": "code",
   "execution_count": 18,
   "metadata": {},
   "outputs": [],
   "source": [
    "data[\"target\"] = data[\"rank\"].apply(get_0_1_label)"
   ]
  },
  {
   "cell_type": "code",
   "execution_count": 19,
   "metadata": {},
   "outputs": [
    {
     "data": {
      "text/plain": [
       "<matplotlib.axes._subplots.AxesSubplot at 0x171baa797f0>"
      ]
     },
     "execution_count": 19,
     "metadata": {},
     "output_type": "execute_result"
    },
    {
     "data": {
      "image/png": "[encoded data removed]",
      "text/plain": [
       "<Figure size 432x288 with 1 Axes>"
      ]
     },
     "metadata": {
      "needs_background": "light"
     },
     "output_type": "display_data"
    }
   ],
   "source": [
    "sns.countplot(x=\"target\", data = data)"
   ]
  },
  {
   "cell_type": "code",
   "execution_count": null,
   "metadata": {},
   "outputs": [],
   "source": []
  },
  {
   "cell_type": "markdown",
   "metadata": {},
   "source": [
    "# copy the images to the correspondent directory"
   ]
  },
  {
   "cell_type": "code",
   "execution_count": 20,
   "metadata": {},
   "outputs": [],
   "source": [
    "import shutil"
   ]
  },
  {
   "cell_type": "code",
   "execution_count": 21,
   "metadata": {},
   "outputs": [
    {
     "data": {
      "text/plain": [
       "'./images/likes/cropped_screenshot_1.png'"
      ]
     },
     "execution_count": 21,
     "metadata": {},
     "output_type": "execute_result"
    }
   ],
   "source": [
    "shutil.copy(images_path+\"cropped_screenshot_1.png\", likes_path)"
   ]
  },
  {
   "cell_type": "code",
   "execution_count": 34,
   "metadata": {
    "scrolled": true
   },
   "outputs": [
    {
     "name": "stdout",
     "output_type": "stream",
     "text": [
      "0 copying cropped_screenshot_100.png 1\n",
      "50 copying cropped_screenshot_2294.png 1\n",
      "100 copying cropped_screenshot_3090.png 1\n",
      "150 copying cropped_screenshot_1465.png 1\n",
      "200 copying cropped_screenshot_1047.png 0\n",
      "250 copying cropped_screenshot_1095.png 0\n",
      "300 copying cropped_screenshot_1142.png 1\n",
      "350 copying cropped_screenshot_1191.png 1\n",
      "400 copying cropped_screenshot_1231.png 0\n",
      "450 copying cropped_screenshot_1279.png 1\n",
      "500 copying cropped_screenshot_1324.png 1\n",
      "550 copying cropped_screenshot_137.png 1\n",
      "600 copying cropped_screenshot_1416.png 1\n",
      "650 copying cropped_screenshot_1466.png 0\n",
      "700 copying cropped_screenshot_1511.png 1\n",
      "750 copying cropped_screenshot_1558.png 0\n",
      "800 copying cropped_screenshot_1603.png 0\n",
      "850 copying cropped_screenshot_1647.png 0\n",
      "900 copying cropped_screenshot_1694.png 0\n",
      "950 copying cropped_screenshot_174.png 1\n",
      "1000 copying cropped_screenshot_1787.png 1\n",
      "1050 copying cropped_screenshot_1834.png 1\n",
      "1100 copying cropped_screenshot_1879.png 0\n",
      "1150 copying cropped_screenshot_1926.png 1\n",
      "1200 copying cropped_screenshot_1968.png 0\n",
      "1250 copying cropped_screenshot_2016.png 0\n",
      "1300 copying cropped_screenshot_2061.png 0\n",
      "1350 copying cropped_screenshot_2109.png 1\n",
      "1400 copying cropped_screenshot_2154.png 1\n",
      "1450 copying cropped_screenshot_2199.png 0\n",
      "1500 copying cropped_screenshot_2245.png 1\n",
      "1550 copying cropped_screenshot_2295.png 1\n",
      "1600 copying cropped_screenshot_234.png 0\n",
      "1650 copying cropped_screenshot_2385.png 0\n",
      "1700 copying cropped_screenshot_243.png 0\n",
      "1750 copying cropped_screenshot_248.png 0\n",
      "1800 copying cropped_screenshot_2525.png 1\n",
      "1850 copying cropped_screenshot_2573.png 1\n",
      "1900 copying cropped_screenshot_262.png 1\n",
      "1950 copying cropped_screenshot_2666.png 0\n",
      "2000 copying cropped_screenshot_2710.png 1\n",
      "2050 copying cropped_screenshot_276.png 1\n",
      "2100 copying cropped_screenshot_2807.png 1\n",
      "2150 copying cropped_screenshot_2855.png 1\n"
     ]
    }
   ],
   "source": [
    "for i in range(len(data)):\n",
    "    img_name = data.iloc[i][\"image_name\"]\n",
    "    target = data.iloc[i][\"target\"]\n",
    "    if i % 50==0:\n",
    "        print(i, \"copying\",img_name, target)\n",
    "    if target == 0:\n",
    "        shutil.copy(images_path+img_name, dislikes_path)\n",
    "    else:\n",
    "        shutil.copy(images_path+img_name, likes_path)"
   ]
  },
  {
   "cell_type": "code",
   "execution_count": null,
   "metadata": {},
   "outputs": [],
   "source": []
  },
  {
   "cell_type": "code",
   "execution_count": null,
   "metadata": {},
   "outputs": [],
   "source": []
  },
  {
   "cell_type": "code",
   "execution_count": null,
   "metadata": {},
   "outputs": [],
   "source": []
  },
  {
   "cell_type": "code",
   "execution_count": null,
   "metadata": {},
   "outputs": [],
   "source": []
  },
  {
   "cell_type": "code",
   "execution_count": null,
   "metadata": {},
   "outputs": [],
   "source": []
  },
  {
   "cell_type": "code",
   "execution_count": null,
   "metadata": {},
   "outputs": [],
   "source": []
  },
  {
   "cell_type": "code",
   "execution_count": null,
   "metadata": {},
   "outputs": [],
   "source": []
  },
  {
   "cell_type": "code",
   "execution_count": null,
   "metadata": {},
   "outputs": [],
   "source": []
  },
  {
   "cell_type": "code",
   "execution_count": null,
   "metadata": {},
   "outputs": [],
   "source": []
  },
  {
   "cell_type": "code",
   "execution_count": null,
   "metadata": {},
   "outputs": [],
   "source": []
  }
 ],
 "metadata": {
  "kernelspec": {
   "display_name": "Python 3",
   "language": "python",
   "name": "python3"
  },
  "language_info": {
   "codemirror_mode": {
    "name": "ipython",
    "version": 3
   },
   "file_extension": ".py",
   "mimetype": "text/x-python",
   "name": "python",
   "nbconvert_exporter": "python",
   "pygments_lexer": "ipython3",
   "version": "3.7.1"
  }
 },
 "nbformat": 4,
 "nbformat_minor": 2
}
